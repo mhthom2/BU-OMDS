{
 "cells": [
  {
   "cell_type": "markdown",
   "id": "e84529c3",
   "metadata": {},
   "source": [
    "# Yellowdig to Blackboard Converter\n",
    "\n",
    "Description : \n",
    "     This notebook processes Yellowdig participation grades from a CSV export \n",
    "     and formats them for direct import into Blackboard's grade center.\n",
    "Output:\n",
    "     A CSV file ready to be imported into Blackboard.\n",
    "\n",
    "@author Matt Thomas with ChatGPT tweaks \n",
    "\n",
    "Created on May  6, 2025"
   ]
  },
  {
   "cell_type": "code",
   "execution_count": null,
   "id": "1f3023b9",
   "metadata": {},
   "outputs": [],
   "source": [
    "# Imports\n",
    "import pandas as pd\n",
    "from pathlib import Path"
   ]
  },
  {
   "cell_type": "markdown",
   "id": "a6795de3-f3f8-4513-b88f-3a62c5d4a511",
   "metadata": {},
   "source": [
    "## Edit for your Course"
   ]
  },
  {
   "cell_type": "code",
   "execution_count": null,
   "id": "a798eb2e",
   "metadata": {},
   "outputs": [],
   "source": [
    "# Edit these parameters for your run\n",
    "input_csv = Path(\"Yellowdig-points.csv\")   # e.g., 'Yellowdig-points.csv'\n",
    "possible_course_points = 1000              # e.g., total course points from syllabus\n",
    "percent_yellowdig = 2                      # e.g., Yellowdig share of grade as INTEGER percent\n",
    "\n",
    "# Output filename (you can change this if desired)\n",
    "BLACKBOARD_FILE_NAME = \"ReadyToImport_Yellowdig.csv\""
   ]
  },
  {
   "cell_type": "markdown",
   "id": "d0626ed0-7a24-4423-a668-4349c00c42c5",
   "metadata": {},
   "source": [
    "## Run Program "
   ]
  },
  {
   "cell_type": "code",
   "execution_count": null,
   "id": "db403467",
   "metadata": {},
   "outputs": [],
   "source": [
    "# Processing logic\n",
    "points = possible_course_points * (percent_yellowdig / 100)\n",
    "\n",
    "# Load data\n",
    "df = pd.read_csv(input_csv)\n",
    "\n",
    "# Remove unneeded columns (if present)\n",
    "cols_to_drop = [c for c in ['user/username', 'Total Points Earned'] if c in df.columns]\n",
    "df = df.drop(columns=cols_to_drop, errors='ignore')\n",
    "\n",
    "# Add Yellowdig score column\n",
    "if 'Participation Grade' not in df.columns:\n",
    "    raise KeyError(\"Expected 'Participation Grade' column in the input CSV.\")\n",
    "df['Yellowdig'] = (df['Participation Grade'] * points).round(4)\n",
    "\n",
    "# Clean-up column names to match Blackboard requirements\n",
    "rename_map = {'user/firstname': 'First Name', 'user/lastname': 'Last Name'}\n",
    "df = df.rename(columns=rename_map)\n",
    "if 'Participation Grade' in df.columns:\n",
    "    df = df.drop(columns=['Participation Grade'])\n",
    "\n",
    "# Derive Username from email\n",
    "if 'user/primary-email' not in df.columns:\n",
    "    raise KeyError(\"Expected 'user/primary-email' column in the input CSV.\")\n",
    "df['Username'] = df['user/primary-email'].astype(str).str.split('@').str[0]\n",
    "\n",
    "# Final Blackboard format\n",
    "needed = ['Username', 'Last Name', 'First Name', 'Yellowdig']\n",
    "missing = [c for c in ['Last Name', 'First Name'] if c not in df.columns]\n",
    "if missing:\n",
    "    raise KeyError(f\"Missing expected columns: {missing}. Check the input CSV headers.\")\n",
    "final_df = df[needed]\n",
    "\n",
    "# Write file\n",
    "final_df.to_csv(BLACKBOARD_FILE_NAME, index=False)\n",
    "print(f\"Wrote: {BLACKBOARD_FILE_NAME}\")"
   ]
  },
  {
   "cell_type": "markdown",
   "id": "5658f7ec-8169-458b-9d92-8074e90bb36f",
   "metadata": {},
   "source": [
    "## Preview of Output"
   ]
  },
  {
   "cell_type": "code",
   "execution_count": null,
   "id": "be19cdde",
   "metadata": {},
   "outputs": [],
   "source": [
    "# Optional: preview the first few rows of the output if it exists\n",
    "out = Path(BLACKBOARD_FILE_NAME)\n",
    "if out.exists():\n",
    "    display(pd.read_csv(out).head())\n",
    "else:\n",
    "    print(\"Run the processing cell above to generate the output first.\")"
   ]
  }
 ],
 "metadata": {
  "kernelspec": {
   "display_name": "Python 3 (ipykernel)",
   "language": "python",
   "name": "python3"
  },
  "language_info": {
   "codemirror_mode": {
    "name": "ipython",
    "version": 3
   },
   "file_extension": ".py",
   "mimetype": "text/x-python",
   "name": "python",
   "nbconvert_exporter": "python",
   "pygments_lexer": "ipython3",
   "version": "3.12.7"
  }
 },
 "nbformat": 4,
 "nbformat_minor": 5
}
